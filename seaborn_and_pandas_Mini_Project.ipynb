{
  "nbformat": 4,
  "nbformat_minor": 0,
  "metadata": {
    "colab": {
      "name": "seaborn and pandas Mini Project.ipynb",
      "provenance": [],
      "collapsed_sections": [],
      "authorship_tag": "ABX9TyNu/9kbo553DHpSZG4kpoKT",
      "include_colab_link": true
    },
    "kernelspec": {
      "name": "python3",
      "display_name": "Python 3"
    }
  },
  "cells": [
    {
      "cell_type": "markdown",
      "metadata": {
        "id": "view-in-github",
        "colab_type": "text"
      },
      "source": [
        "<a href=\"https://colab.research.google.com/github/katgoodman/kat/blob/main/seaborn_and_pandas_Mini_Project.ipynb\" target=\"_parent\"><img src=\"https://colab.research.google.com/assets/colab-badge.svg\" alt=\"Open In Colab\"/></a>"
      ]
    },
    {
      "cell_type": "markdown",
      "metadata": {
        "id": "v_ROiCQRt5SI"
      },
      "source": [
        "# Step 1: Import Libraries"
      ]
    },
    {
      "cell_type": "code",
      "metadata": {
        "id": "8_tUnFfwtkzG"
      },
      "source": [
        "from sqlalchemy import create_engine\n",
        "import pandas as pd\n",
        "import matplotlib.pyplot as plt\n",
        "import seaborn as sns\n",
        "sns.set_style(\"white\")\n",
        "\n",
        "#it is set to ignore warning\n",
        "import warnings\n",
        "warnings.filterwarnings(\"ignore\")"
      ],
      "execution_count": null,
      "outputs": []
    },
    {
      "cell_type": "markdown",
      "metadata": {
        "id": "1Mf0Rn7suA8T"
      },
      "source": [
        "# Step 2: Load in database"
      ]
    },
    {
      "cell_type": "code",
      "metadata": {
        "id": "iCAMcP-YuASM",
        "colab": {
          "base_uri": "https://localhost:8080/",
          "height": 1000
        },
        "outputId": "83e37bd6-ee69-4f4a-fd81-9dfbbab0deaf"
      },
      "source": [
        "# Load in our data\n",
        "from getpass import getpass\n",
        "\n",
        "postgres_user = 'dabc_student'\n",
        "postgres_pw = getpass()\n",
        "postgres_host = '142.93.121.174'\n",
        "postgres_port = '5432'\n",
        "postgres_db = 'houseprices'\n",
        "\n",
        "engine = create_engine('postgresql://{}:{}@{}:{}/{}'.format(  \n",
        "    postgres_user, postgres_pw, postgres_host, postgres_port, postgres_db))\n",
        "\n",
        "houseprices_df = pd.read_sql_table('houseprices',con=engine)\n",
        "engine.dispose()\n",
        "\n",
        "houseprices_df.info()"
      ],
      "execution_count": null,
      "outputs": [
        {
          "output_type": "stream",
          "text": [
            "··········\n",
            "<class 'pandas.core.frame.DataFrame'>\n",
            "RangeIndex: 1460 entries, 0 to 1459\n",
            "Data columns (total 81 columns):\n",
            " #   Column         Non-Null Count  Dtype  \n",
            "---  ------         --------------  -----  \n",
            " 0   id             1460 non-null   int64  \n",
            " 1   mssubclass     1460 non-null   int64  \n",
            " 2   mszoning       1460 non-null   object \n",
            " 3   lotfrontage    1201 non-null   float64\n",
            " 4   lotarea        1460 non-null   int64  \n",
            " 5   street         1460 non-null   object \n",
            " 6   alley          91 non-null     object \n",
            " 7   lotshape       1460 non-null   object \n",
            " 8   landcontour    1460 non-null   object \n",
            " 9   utilities      1460 non-null   object \n",
            " 10  lotconfig      1460 non-null   object \n",
            " 11  landslope      1460 non-null   object \n",
            " 12  neighborhood   1460 non-null   object \n",
            " 13  condition1     1460 non-null   object \n",
            " 14  condition2     1460 non-null   object \n",
            " 15  bldgtype       1460 non-null   object \n",
            " 16  housestyle     1460 non-null   object \n",
            " 17  overallqual    1460 non-null   int64  \n",
            " 18  overallcond    1460 non-null   int64  \n",
            " 19  yearbuilt      1460 non-null   int64  \n",
            " 20  yearremodadd   1460 non-null   int64  \n",
            " 21  roofstyle      1460 non-null   object \n",
            " 22  roofmatl       1460 non-null   object \n",
            " 23  exterior1st    1460 non-null   object \n",
            " 24  exterior2nd    1460 non-null   object \n",
            " 25  masvnrtype     1452 non-null   object \n",
            " 26  masvnrarea     1452 non-null   float64\n",
            " 27  exterqual      1460 non-null   object \n",
            " 28  extercond      1460 non-null   object \n",
            " 29  foundation     1460 non-null   object \n",
            " 30  bsmtqual       1423 non-null   object \n",
            " 31  bsmtcond       1423 non-null   object \n",
            " 32  bsmtexposure   1422 non-null   object \n",
            " 33  bsmtfintype1   1423 non-null   object \n",
            " 34  bsmtfinsf1     1460 non-null   int64  \n",
            " 35  bsmtfintype2   1422 non-null   object \n",
            " 36  bsmtfinsf2     1460 non-null   int64  \n",
            " 37  bsmtunfsf      1460 non-null   int64  \n",
            " 38  totalbsmtsf    1460 non-null   int64  \n",
            " 39  heating        1460 non-null   object \n",
            " 40  heatingqc      1460 non-null   object \n",
            " 41  centralair     1460 non-null   object \n",
            " 42  electrical     1459 non-null   object \n",
            " 43  firstflrsf     1460 non-null   int64  \n",
            " 44  secondflrsf    1460 non-null   int64  \n",
            " 45  lowqualfinsf   1460 non-null   int64  \n",
            " 46  grlivarea      1460 non-null   int64  \n",
            " 47  bsmtfullbath   1460 non-null   int64  \n",
            " 48  bsmthalfbath   1460 non-null   int64  \n",
            " 49  fullbath       1460 non-null   int64  \n",
            " 50  halfbath       1460 non-null   int64  \n",
            " 51  bedroomabvgr   1460 non-null   int64  \n",
            " 52  kitchenabvgr   1460 non-null   int64  \n",
            " 53  kitchenqual    1460 non-null   object \n",
            " 54  totrmsabvgrd   1460 non-null   int64  \n",
            " 55  functional     1460 non-null   object \n",
            " 56  fireplaces     1460 non-null   int64  \n",
            " 57  fireplacequ    770 non-null    object \n",
            " 58  garagetype     1379 non-null   object \n",
            " 59  garageyrblt    1379 non-null   float64\n",
            " 60  garagefinish   1379 non-null   object \n",
            " 61  garagecars     1460 non-null   int64  \n",
            " 62  garagearea     1460 non-null   int64  \n",
            " 63  garagequal     1379 non-null   object \n",
            " 64  garagecond     1379 non-null   object \n",
            " 65  paveddrive     1460 non-null   object \n",
            " 66  wooddecksf     1460 non-null   int64  \n",
            " 67  openporchsf    1460 non-null   int64  \n",
            " 68  enclosedporch  1460 non-null   int64  \n",
            " 69  threessnporch  1460 non-null   int64  \n",
            " 70  screenporch    1460 non-null   int64  \n",
            " 71  poolarea       1460 non-null   int64  \n",
            " 72  poolqc         7 non-null      object \n",
            " 73  fence          281 non-null    object \n",
            " 74  miscfeature    54 non-null     object \n",
            " 75  miscval        1460 non-null   int64  \n",
            " 76  mosold         1460 non-null   int64  \n",
            " 77  yrsold         1460 non-null   int64  \n",
            " 78  saletype       1460 non-null   object \n",
            " 79  salecondition  1460 non-null   object \n",
            " 80  saleprice      1460 non-null   int64  \n",
            "dtypes: float64(3), int64(35), object(43)\n",
            "memory usage: 924.0+ KB\n"
          ],
          "name": "stdout"
        }
      ]
    },
    {
      "cell_type": "markdown",
      "metadata": {
        "id": "yvJpvnCjvrcF"
      },
      "source": [
        "# 1: Illustrate the distribution of *saleprice*"
      ]
    },
    {
      "cell_type": "code",
      "metadata": {
        "id": "1U0sbc5zvyAU",
        "colab": {
          "base_uri": "https://localhost:8080/",
          "height": 294
        },
        "outputId": "3fb64458-248d-4a69-a68d-aa4ce9513cd2"
      },
      "source": [
        "houseprices_df[['saleprice']].describe()"
      ],
      "execution_count": null,
      "outputs": [
        {
          "output_type": "execute_result",
          "data": {
            "text/html": [
              "<div>\n",
              "<style scoped>\n",
              "    .dataframe tbody tr th:only-of-type {\n",
              "        vertical-align: middle;\n",
              "    }\n",
              "\n",
              "    .dataframe tbody tr th {\n",
              "        vertical-align: top;\n",
              "    }\n",
              "\n",
              "    .dataframe thead th {\n",
              "        text-align: right;\n",
              "    }\n",
              "</style>\n",
              "<table border=\"1\" class=\"dataframe\">\n",
              "  <thead>\n",
              "    <tr style=\"text-align: right;\">\n",
              "      <th></th>\n",
              "      <th>saleprice</th>\n",
              "    </tr>\n",
              "  </thead>\n",
              "  <tbody>\n",
              "    <tr>\n",
              "      <th>count</th>\n",
              "      <td>1460.000000</td>\n",
              "    </tr>\n",
              "    <tr>\n",
              "      <th>mean</th>\n",
              "      <td>180921.195890</td>\n",
              "    </tr>\n",
              "    <tr>\n",
              "      <th>std</th>\n",
              "      <td>79442.502883</td>\n",
              "    </tr>\n",
              "    <tr>\n",
              "      <th>min</th>\n",
              "      <td>34900.000000</td>\n",
              "    </tr>\n",
              "    <tr>\n",
              "      <th>25%</th>\n",
              "      <td>129975.000000</td>\n",
              "    </tr>\n",
              "    <tr>\n",
              "      <th>50%</th>\n",
              "      <td>163000.000000</td>\n",
              "    </tr>\n",
              "    <tr>\n",
              "      <th>75%</th>\n",
              "      <td>214000.000000</td>\n",
              "    </tr>\n",
              "    <tr>\n",
              "      <th>max</th>\n",
              "      <td>755000.000000</td>\n",
              "    </tr>\n",
              "  </tbody>\n",
              "</table>\n",
              "</div>"
            ],
            "text/plain": [
              "           saleprice\n",
              "count    1460.000000\n",
              "mean   180921.195890\n",
              "std     79442.502883\n",
              "min     34900.000000\n",
              "25%    129975.000000\n",
              "50%    163000.000000\n",
              "75%    214000.000000\n",
              "max    755000.000000"
            ]
          },
          "metadata": {
            "tags": []
          },
          "execution_count": 10
        }
      ]
    },
    {
      "cell_type": "code",
      "metadata": {
        "id": "KZWzoXXMxL8Z",
        "colab": {
          "base_uri": "https://localhost:8080/",
          "height": 313
        },
        "outputId": "e4e90c60-18d9-4c2f-beea-87257f7dbbe5"
      },
      "source": [
        "sns.distplot(houseprices_df['saleprice'], bins=25)"
      ],
      "execution_count": null,
      "outputs": [
        {
          "output_type": "execute_result",
          "data": {
            "text/plain": [
              "<matplotlib.axes._subplots.AxesSubplot at 0x7f1f87001da0>"
            ]
          },
          "metadata": {
            "tags": []
          },
          "execution_count": 9
        },
        {
          "output_type": "display_data",
          "data": {
            "image/png": "[encoded data removed]",
            "text/plain": [
              "<Figure size 432x288 with 1 Axes>"
            ]
          },
          "metadata": {
            "tags": []
          }
        }
      ]
    },
    {
      "cell_type": "markdown",
      "metadata": {
        "id": "MkKfQGxjyKgA"
      },
      "source": [
        "#2: Illustrate the distribution of the *lotarea*"
      ]
    },
    {
      "cell_type": "code",
      "metadata": {
        "id": "wuanyiLAySTI",
        "colab": {
          "base_uri": "https://localhost:8080/",
          "height": 294
        },
        "outputId": "a249f475-5698-4f58-ad64-b5c7cd1ece33"
      },
      "source": [
        "houseprices_df[['lotarea']].describe()"
      ],
      "execution_count": null,
      "outputs": [
        {
          "output_type": "execute_result",
          "data": {
            "text/html": [
              "<div>\n",
              "<style scoped>\n",
              "    .dataframe tbody tr th:only-of-type {\n",
              "        vertical-align: middle;\n",
              "    }\n",
              "\n",
              "    .dataframe tbody tr th {\n",
              "        vertical-align: top;\n",
              "    }\n",
              "\n",
              "    .dataframe thead th {\n",
              "        text-align: right;\n",
              "    }\n",
              "</style>\n",
              "<table border=\"1\" class=\"dataframe\">\n",
              "  <thead>\n",
              "    <tr style=\"text-align: right;\">\n",
              "      <th></th>\n",
              "      <th>lotarea</th>\n",
              "    </tr>\n",
              "  </thead>\n",
              "  <tbody>\n",
              "    <tr>\n",
              "      <th>count</th>\n",
              "      <td>1460.000000</td>\n",
              "    </tr>\n",
              "    <tr>\n",
              "      <th>mean</th>\n",
              "      <td>10516.828082</td>\n",
              "    </tr>\n",
              "    <tr>\n",
              "      <th>std</th>\n",
              "      <td>9981.264932</td>\n",
              "    </tr>\n",
              "    <tr>\n",
              "      <th>min</th>\n",
              "      <td>1300.000000</td>\n",
              "    </tr>\n",
              "    <tr>\n",
              "      <th>25%</th>\n",
              "      <td>7553.500000</td>\n",
              "    </tr>\n",
              "    <tr>\n",
              "      <th>50%</th>\n",
              "      <td>9478.500000</td>\n",
              "    </tr>\n",
              "    <tr>\n",
              "      <th>75%</th>\n",
              "      <td>11601.500000</td>\n",
              "    </tr>\n",
              "    <tr>\n",
              "      <th>max</th>\n",
              "      <td>215245.000000</td>\n",
              "    </tr>\n",
              "  </tbody>\n",
              "</table>\n",
              "</div>"
            ],
            "text/plain": [
              "             lotarea\n",
              "count    1460.000000\n",
              "mean    10516.828082\n",
              "std      9981.264932\n",
              "min      1300.000000\n",
              "25%      7553.500000\n",
              "50%      9478.500000\n",
              "75%     11601.500000\n",
              "max    215245.000000"
            ]
          },
          "metadata": {
            "tags": []
          },
          "execution_count": 12
        }
      ]
    },
    {
      "cell_type": "code",
      "metadata": {
        "id": "4-2LsY7RyZLf",
        "colab": {
          "base_uri": "https://localhost:8080/",
          "height": 303
        },
        "outputId": "74ccb7dd-baab-4553-e035-134a2ba3db1d"
      },
      "source": [
        "sns.distplot(houseprices_df['lotarea'], bins=50)"
      ],
      "execution_count": null,
      "outputs": [
        {
          "output_type": "execute_result",
          "data": {
            "text/plain": [
              "<matplotlib.axes._subplots.AxesSubplot at 0x7f1f871c6d68>"
            ]
          },
          "metadata": {
            "tags": []
          },
          "execution_count": 19
        },
        {
          "output_type": "display_data",
          "data": {
            "image/png": "[encoded data removed]",
            "text/plain": [
              "<Figure size 432x288 with 1 Axes>"
            ]
          },
          "metadata": {
            "tags": []
          }
        }
      ]
    },
    {
      "cell_type": "markdown",
      "metadata": {
        "id": "BkemmXiWyuZv"
      },
      "source": [
        "#3: Use a box plot to illustrate how *overallcond* affects the *saleprice*"
      ]
    },
    {
      "cell_type": "code",
      "metadata": {
        "id": "-YIabctoyz3i",
        "colab": {
          "base_uri": "https://localhost:8080/",
          "height": 303
        },
        "outputId": "b3671a09-3979-4aab-b25a-59e3254fa813"
      },
      "source": [
        "sns.boxplot(x = houseprices_df[\"overallcond\"], y = houseprices_df[\"saleprice\"])"
      ],
      "execution_count": null,
      "outputs": [
        {
          "output_type": "execute_result",
          "data": {
            "text/plain": [
              "<matplotlib.axes._subplots.AxesSubplot at 0x7f1f81717e80>"
            ]
          },
          "metadata": {
            "tags": []
          },
          "execution_count": 23
        },
        {
          "output_type": "display_data",
          "data": {
            "image/png": "[encoded data removed]",
            "text/plain": [
              "<Figure size 432x288 with 1 Axes>"
            ]
          },
          "metadata": {
            "tags": []
          }
        }
      ]
    },
    {
      "cell_type": "markdown",
      "metadata": {
        "id": "Lhkg8Fw_2SJq"
      },
      "source": [
        "#4 On the same box plot, highlight the difference between having central air and not having it"
      ]
    },
    {
      "cell_type": "code",
      "metadata": {
        "id": "QQrulsxt2aoQ",
        "colab": {
          "base_uri": "https://localhost:8080/",
          "height": 443
        },
        "outputId": "f7362ce1-2a8f-4151-a77b-b61dd80cd36b"
      },
      "source": [
        "ax = sns.boxplot(y=\"saleprice\", hue=\"centralair\", x = \"overallcond\", data=houseprices_df)\n",
        "\n",
        "# like rotating the labels so we can read them\n",
        "ax.set_xticklabels(ax.get_xticklabels(),rotation=45)\n",
        "\n",
        "#the black dots are outliers"
      ],
      "execution_count": null,
      "outputs": [
        {
          "output_type": "execute_result",
          "data": {
            "text/plain": [
              "[Text(0, 0, '1'),\n",
              " Text(0, 0, '2'),\n",
              " Text(0, 0, '3'),\n",
              " Text(0, 0, '4'),\n",
              " Text(0, 0, '5'),\n",
              " Text(0, 0, '6'),\n",
              " Text(0, 0, '7'),\n",
              " Text(0, 0, '8'),\n",
              " Text(0, 0, '9')]"
            ]
          },
          "metadata": {
            "tags": []
          },
          "execution_count": 24
        },
        {
          "output_type": "display_data",
          "data": {
            "image/png": "[encoded data removed]",
            "text/plain": [
              "<Figure size 432x288 with 1 Axes>"
            ]
          },
          "metadata": {
            "tags": []
          }
        }
      ]
    },
    {
      "cell_type": "markdown",
      "metadata": {
        "id": "PmHJ876QPNHq"
      },
      "source": [
        "#5: Is there a correlcation between *lotarea* and *saleprice*?"
      ]
    },
    {
      "cell_type": "code",
      "metadata": {
        "id": "MvQP0o_bPTn6",
        "colab": {
          "base_uri": "https://localhost:8080/",
          "height": 303
        },
        "outputId": "3f7ba6c7-3668-4532-d5d6-391ad954c3b1"
      },
      "source": [
        "sns.scatterplot(x = houseprices_df[\"lotarea\"], y = houseprices_df[\"saleprice\"])\n",
        "# there is no correlation between the 2"
      ],
      "execution_count": null,
      "outputs": [
        {
          "output_type": "execute_result",
          "data": {
            "text/plain": [
              "<matplotlib.axes._subplots.AxesSubplot at 0x7f1f812be748>"
            ]
          },
          "metadata": {
            "tags": []
          },
          "execution_count": 27
        },
        {
          "output_type": "display_data",
          "data": {
            "image/png": "[encoded data removed]",
            "text/plain": [
              "<Figure size 432x288 with 1 Axes>"
            ]
          },
          "metadata": {
            "tags": []
          }
        }
      ]
    }
  ]
}