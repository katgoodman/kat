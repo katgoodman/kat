{
  "nbformat": 4,
  "nbformat_minor": 0,
  "metadata": {
    "colab": {
      "name": "Copy of Capstone #3: Sephora",
      "provenance": [],
      "authorship_tag": "ABX9TyP6fHbpv8rA3D9m40tY2yn/",
      "include_colab_link": true
    },
    "kernelspec": {
      "name": "python3",
      "display_name": "Python 3"
    }
  },
  "cells": [
    {
      "cell_type": "markdown",
      "metadata": {
        "id": "view-in-github",
        "colab_type": "text"
      },
      "source": [
        "<a href=\"https://colab.research.google.com/github/katgoodman/kat/blob/main/Copy_of_Capstone_3_Sephora.ipynb\" target=\"_parent\"><img src=\"https://colab.research.google.com/assets/colab-badge.svg\" alt=\"Open In Colab\"/></a>"
      ]
    },
    {
      "cell_type": "markdown",
      "metadata": {
        "id": "lxGpLghesG-P"
      },
      "source": [
        "# Background on Dataset "
      ]
    },
    {
      "cell_type": "markdown",
      "metadata": {
        "id": "kTtVRAWn9N7H"
      },
      "source": [
        "Link to dataset origin: https://www.kaggle.com/raghadalharbi/all-products-available-on-sephora-website/version/1\n",
        "\n",
        "It was collected by Raghad Adalharbi for their Data Science Immersive Course with General Assembly\n",
        "\n",
        "kaggle datasets download -d raghadalharbi/all-products-available-on-sephora-website"
      ]
    },
    {
      "cell_type": "markdown",
      "metadata": {
        "id": "ljAt-AgQ9bXk"
      },
      "source": [
        "Background on Sephora: Sephora is a French retailer of personal care and beauty products. Customers can leave reviews for products and also place a heart next to a product they want. (move to markdown in code down below) These hearts are *loves*. Ratings for products range from 1.0 to 5.0. (Summarize business questions in general question from proposal, explain what you are going to do)"
      ]
    },
    {
      "cell_type": "markdown",
      "metadata": {
        "id": "e3PQnjVDgOKH"
      },
      "source": [
        "# Import Libraries"
      ]
    },
    {
      "cell_type": "code",
      "metadata": {
        "id": "63RIsc9-ql0B",
        "outputId": "86760c4e-7394-4571-bd2c-5da2b7b3a2d9",
        "colab": {
          "base_uri": "https://localhost:8080/",
          "height": 35
        }
      },
      "source": [
        "from google.colab import drive\n",
        "drive.mount('/content/gdrive')"
      ],
      "execution_count": null,
      "outputs": [
        {
          "output_type": "stream",
          "text": [
            "Drive already mounted at /content/gdrive; to attempt to forcibly remount, call drive.mount(\"/content/gdrive\", force_remount=True).\n"
          ],
          "name": "stdout"
        }
      ]
    },
    {
      "cell_type": "code",
      "metadata": {
        "id": "7Ub9D8vtrgml",
        "outputId": "dbc22c06-dcf8-43ab-d2d5-2db84075cc0f",
        "colab": {
          "base_uri": "https://localhost:8080/",
          "height": 673
        }
      },
      "source": [
        "# Import pandas and read in our GDrive-mounted csv\n",
        "\n",
        "import pandas as pd\n",
        "\n",
        "sephora_df = pd.read_csv('/content/gdrive/My Drive/Colab Datasets/sephora_updated.csv')\n",
        "sephora_df.head()"
      ],
      "execution_count": null,
      "outputs": [
        {
          "output_type": "execute_result",
          "data": {
            "text/html": [
              "<div>\n",
              "<style scoped>\n",
              "    .dataframe tbody tr th:only-of-type {\n",
              "        vertical-align: middle;\n",
              "    }\n",
              "\n",
              "    .dataframe tbody tr th {\n",
              "        vertical-align: top;\n",
              "    }\n",
              "\n",
              "    .dataframe thead th {\n",
              "        text-align: right;\n",
              "    }\n",
              "</style>\n",
              "<table border=\"1\" class=\"dataframe\">\n",
              "  <thead>\n",
              "    <tr style=\"text-align: right;\">\n",
              "      <th></th>\n",
              "      <th>id</th>\n",
              "      <th>brand</th>\n",
              "      <th>category</th>\n",
              "      <th>name</th>\n",
              "      <th>size</th>\n",
              "      <th>rating</th>\n",
              "      <th>number_of_reviews</th>\n",
              "      <th>love</th>\n",
              "      <th>price</th>\n",
              "      <th>value_price</th>\n",
              "      <th>URL</th>\n",
              "      <th>MarketingFlags</th>\n",
              "      <th>MarketingFlags_content</th>\n",
              "      <th>options</th>\n",
              "      <th>details</th>\n",
              "      <th>how_to_use</th>\n",
              "      <th>ingredients</th>\n",
              "      <th>online_only</th>\n",
              "      <th>exclusive</th>\n",
              "      <th>limited_edition</th>\n",
              "      <th>limited_time_offer</th>\n",
              "    </tr>\n",
              "  </thead>\n",
              "  <tbody>\n",
              "    <tr>\n",
              "      <th>0</th>\n",
              "      <td>2218774</td>\n",
              "      <td>Acqua Di Parma</td>\n",
              "      <td>Fragrance</td>\n",
              "      <td>Blu Mediterraneo MINIATURE Set</td>\n",
              "      <td>5 x 0.16oz/5mL</td>\n",
              "      <td>4.0</td>\n",
              "      <td>4</td>\n",
              "      <td>3002</td>\n",
              "      <td>66.0</td>\n",
              "      <td>75.0</td>\n",
              "      <td>https://www.sephora.com/product/blu-mediterran...</td>\n",
              "      <td>True</td>\n",
              "      <td>online only</td>\n",
              "      <td>no options</td>\n",
              "      <td>This enchanting set comes in a specially handc...</td>\n",
              "      <td>Suggested Usage:-Fragrance is intensified by t...</td>\n",
              "      <td>Arancia di Capri Eau de Toilette: Alcohol Dena...</td>\n",
              "      <td>1</td>\n",
              "      <td>0</td>\n",
              "      <td>0</td>\n",
              "      <td>0</td>\n",
              "    </tr>\n",
              "    <tr>\n",
              "      <th>1</th>\n",
              "      <td>2044816</td>\n",
              "      <td>Acqua Di Parma</td>\n",
              "      <td>Cologne</td>\n",
              "      <td>Colonia</td>\n",
              "      <td>0.7 oz/ 20 mL</td>\n",
              "      <td>4.5</td>\n",
              "      <td>76</td>\n",
              "      <td>2700</td>\n",
              "      <td>66.0</td>\n",
              "      <td>66.0</td>\n",
              "      <td>https://www.sephora.com/product/colonia-P16360...</td>\n",
              "      <td>True</td>\n",
              "      <td>online only</td>\n",
              "      <td>- 0.7 oz/ 20 mL  Spray  - 1.7 oz/ 50 mL Eau d...</td>\n",
              "      <td>An elegant timeless scent filled with a fresh-...</td>\n",
              "      <td>no instructions</td>\n",
              "      <td>unknown</td>\n",
              "      <td>1</td>\n",
              "      <td>0</td>\n",
              "      <td>0</td>\n",
              "      <td>0</td>\n",
              "    </tr>\n",
              "    <tr>\n",
              "      <th>2</th>\n",
              "      <td>1417567</td>\n",
              "      <td>Acqua Di Parma</td>\n",
              "      <td>Perfume</td>\n",
              "      <td>Arancia di Capri</td>\n",
              "      <td>5 oz/ 148 mL</td>\n",
              "      <td>4.5</td>\n",
              "      <td>26</td>\n",
              "      <td>2600</td>\n",
              "      <td>180.0</td>\n",
              "      <td>180.0</td>\n",
              "      <td>https://www.sephora.com/product/blu-mediterran...</td>\n",
              "      <td>True</td>\n",
              "      <td>online only</td>\n",
              "      <td>- 1oz/30mL Eau de Toilette  - 2.5 oz/ 74 mL E...</td>\n",
              "      <td>Fragrance Family: Fresh Scent Type: Fresh Citr...</td>\n",
              "      <td>no instructions</td>\n",
              "      <td>Alcohol Denat.- Water- Fragrance- Limonene- Li...</td>\n",
              "      <td>1</td>\n",
              "      <td>0</td>\n",
              "      <td>0</td>\n",
              "      <td>0</td>\n",
              "    </tr>\n",
              "    <tr>\n",
              "      <th>3</th>\n",
              "      <td>1417617</td>\n",
              "      <td>Acqua Di Parma</td>\n",
              "      <td>Perfume</td>\n",
              "      <td>Mirto di Panarea</td>\n",
              "      <td>2.5 oz/ 74 mL</td>\n",
              "      <td>4.5</td>\n",
              "      <td>23</td>\n",
              "      <td>2900</td>\n",
              "      <td>120.0</td>\n",
              "      <td>120.0</td>\n",
              "      <td>https://www.sephora.com/product/blu-mediterran...</td>\n",
              "      <td>True</td>\n",
              "      <td>online only</td>\n",
              "      <td>- 1 oz/ 30 mL Eau de Toilette Spray - 2.5 oz/...</td>\n",
              "      <td>Panarea near Sicily is an an island suspended ...</td>\n",
              "      <td>no instructions</td>\n",
              "      <td>unknown</td>\n",
              "      <td>1</td>\n",
              "      <td>0</td>\n",
              "      <td>0</td>\n",
              "      <td>0</td>\n",
              "    </tr>\n",
              "    <tr>\n",
              "      <th>4</th>\n",
              "      <td>2218766</td>\n",
              "      <td>Acqua Di Parma</td>\n",
              "      <td>Fragrance</td>\n",
              "      <td>Colonia Miniature Set</td>\n",
              "      <td>5 x 0.16oz/5mL</td>\n",
              "      <td>3.5</td>\n",
              "      <td>2</td>\n",
              "      <td>943</td>\n",
              "      <td>72.0</td>\n",
              "      <td>80.0</td>\n",
              "      <td>https://www.sephora.com/product/colonia-miniat...</td>\n",
              "      <td>True</td>\n",
              "      <td>online only</td>\n",
              "      <td>no options</td>\n",
              "      <td>The Colonia Miniature Set comes in an iconic A...</td>\n",
              "      <td>Suggested Usage:-Fragrance is intensified by t...</td>\n",
              "      <td>Colonia: Alcohol Denat.- Water- Fragrance- Lim...</td>\n",
              "      <td>1</td>\n",
              "      <td>0</td>\n",
              "      <td>0</td>\n",
              "      <td>0</td>\n",
              "    </tr>\n",
              "  </tbody>\n",
              "</table>\n",
              "</div>"
            ],
            "text/plain": [
              "        id           brand  ... limited_edition limited_time_offer\n",
              "0  2218774  Acqua Di Parma  ...               0                  0\n",
              "1  2044816  Acqua Di Parma  ...               0                  0\n",
              "2  1417567  Acqua Di Parma  ...               0                  0\n",
              "3  1417617  Acqua Di Parma  ...               0                  0\n",
              "4  2218766  Acqua Di Parma  ...               0                  0\n",
              "\n",
              "[5 rows x 21 columns]"
            ]
          },
          "metadata": {
            "tags": []
          },
          "execution_count": 2
        }
      ]
    },
    {
      "cell_type": "markdown",
      "metadata": {
        "id": "r4d57LzFtgcS"
      },
      "source": [
        "# Data Wrangling & Checking for Nulls"
      ]
    },
    {
      "cell_type": "code",
      "metadata": {
        "id": "R-Zw4KuW33_b",
        "outputId": "504730ab-f6db-4585-b527-5dbe2b853d2d",
        "colab": {
          "base_uri": "https://localhost:8080/",
          "height": 503
        }
      },
      "source": [
        "sephora_df.info()"
      ],
      "execution_count": null,
      "outputs": [
        {
          "output_type": "stream",
          "text": [
            "<class 'pandas.core.frame.DataFrame'>\n",
            "RangeIndex: 9168 entries, 0 to 9167\n",
            "Data columns (total 21 columns):\n",
            " #   Column                  Non-Null Count  Dtype  \n",
            "---  ------                  --------------  -----  \n",
            " 0   id                      9168 non-null   int64  \n",
            " 1   brand                   9168 non-null   object \n",
            " 2   category                9168 non-null   object \n",
            " 3   name                    9168 non-null   object \n",
            " 4   size                    9168 non-null   object \n",
            " 5   rating                  9168 non-null   float64\n",
            " 6   number_of_reviews       9168 non-null   int64  \n",
            " 7   love                    9168 non-null   int64  \n",
            " 8   price                   9168 non-null   float64\n",
            " 9   value_price             9168 non-null   float64\n",
            " 10  URL                     9168 non-null   object \n",
            " 11  MarketingFlags          9168 non-null   bool   \n",
            " 12  MarketingFlags_content  9168 non-null   object \n",
            " 13  options                 9168 non-null   object \n",
            " 14  details                 9168 non-null   object \n",
            " 15  how_to_use              9168 non-null   object \n",
            " 16  ingredients             9168 non-null   object \n",
            " 17  online_only             9168 non-null   int64  \n",
            " 18  exclusive               9168 non-null   int64  \n",
            " 19  limited_edition         9168 non-null   int64  \n",
            " 20  limited_time_offer      9168 non-null   int64  \n",
            "dtypes: bool(1), float64(3), int64(7), object(10)\n",
            "memory usage: 1.4+ MB\n"
          ],
          "name": "stdout"
        }
      ]
    },
    {
      "cell_type": "code",
      "metadata": {
        "id": "tGWpcMS44jnb",
        "outputId": "d618f4ff-6af7-486a-ca42-cc166f1f5e12",
        "colab": {
          "base_uri": "https://localhost:8080/",
          "height": 35
        }
      },
      "source": [
        "sephora_df.shape"
      ],
      "execution_count": null,
      "outputs": [
        {
          "output_type": "execute_result",
          "data": {
            "text/plain": [
              "(9168, 21)"
            ]
          },
          "metadata": {
            "tags": []
          },
          "execution_count": 4
        }
      ]
    },
    {
      "cell_type": "code",
      "metadata": {
        "id": "qP6GKafY4qx2",
        "outputId": "9c17c601-20e3-4f98-9e62-1b1ff20a0a1c",
        "colab": {
          "base_uri": "https://localhost:8080/",
          "height": 399
        }
      },
      "source": [
        "sephora_df.dtypes"
      ],
      "execution_count": null,
      "outputs": [
        {
          "output_type": "execute_result",
          "data": {
            "text/plain": [
              "id                          int64\n",
              "brand                      object\n",
              "category                   object\n",
              "name                       object\n",
              "size                       object\n",
              "rating                    float64\n",
              "number_of_reviews           int64\n",
              "love                        int64\n",
              "price                     float64\n",
              "value_price               float64\n",
              "URL                        object\n",
              "MarketingFlags               bool\n",
              "MarketingFlags_content     object\n",
              "options                    object\n",
              "details                    object\n",
              "how_to_use                 object\n",
              "ingredients                object\n",
              "online_only                 int64\n",
              "exclusive                   int64\n",
              "limited_edition             int64\n",
              "limited_time_offer          int64\n",
              "dtype: object"
            ]
          },
          "metadata": {
            "tags": []
          },
          "execution_count": 5
        }
      ]
    },
    {
      "cell_type": "code",
      "metadata": {
        "id": "0bGWAAyu4w2z",
        "outputId": "d0e10fc1-024f-4d29-ce1e-5b5571dfd9f0",
        "colab": {
          "base_uri": "https://localhost:8080/",
          "height": 399
        }
      },
      "source": [
        "sephora_df.isnull().sum()"
      ],
      "execution_count": null,
      "outputs": [
        {
          "output_type": "execute_result",
          "data": {
            "text/plain": [
              "id                        0\n",
              "brand                     0\n",
              "category                  0\n",
              "name                      0\n",
              "size                      0\n",
              "rating                    0\n",
              "number_of_reviews         0\n",
              "love                      0\n",
              "price                     0\n",
              "value_price               0\n",
              "URL                       0\n",
              "MarketingFlags            0\n",
              "MarketingFlags_content    0\n",
              "options                   0\n",
              "details                   0\n",
              "how_to_use                0\n",
              "ingredients               0\n",
              "online_only               0\n",
              "exclusive                 0\n",
              "limited_edition           0\n",
              "limited_time_offer        0\n",
              "dtype: int64"
            ]
          },
          "metadata": {
            "tags": []
          },
          "execution_count": 6
        }
      ]
    },
    {
      "cell_type": "code",
      "metadata": {
        "id": "vnMpbKRXBvRm",
        "outputId": "428bb5bf-8d27-4bf7-a565-c91ee0dafeef",
        "colab": {
          "base_uri": "https://localhost:8080/",
          "height": 638
        }
      },
      "source": [
        "#Filter out columns that are not going to be used \n",
        "sephora_df_drop = sephora_df.drop(['id', 'URL', 'details', 'ingredients'], axis=1)\n",
        "sephora_df_drop.head()"
      ],
      "execution_count": null,
      "outputs": [
        {
          "output_type": "execute_result",
          "data": {
            "text/html": [
              "<div>\n",
              "<style scoped>\n",
              "    .dataframe tbody tr th:only-of-type {\n",
              "        vertical-align: middle;\n",
              "    }\n",
              "\n",
              "    .dataframe tbody tr th {\n",
              "        vertical-align: top;\n",
              "    }\n",
              "\n",
              "    .dataframe thead th {\n",
              "        text-align: right;\n",
              "    }\n",
              "</style>\n",
              "<table border=\"1\" class=\"dataframe\">\n",
              "  <thead>\n",
              "    <tr style=\"text-align: right;\">\n",
              "      <th></th>\n",
              "      <th>brand</th>\n",
              "      <th>category</th>\n",
              "      <th>name</th>\n",
              "      <th>size</th>\n",
              "      <th>rating</th>\n",
              "      <th>number_of_reviews</th>\n",
              "      <th>love</th>\n",
              "      <th>price</th>\n",
              "      <th>value_price</th>\n",
              "      <th>MarketingFlags</th>\n",
              "      <th>MarketingFlags_content</th>\n",
              "      <th>options</th>\n",
              "      <th>how_to_use</th>\n",
              "      <th>online_only</th>\n",
              "      <th>exclusive</th>\n",
              "      <th>limited_edition</th>\n",
              "      <th>limited_time_offer</th>\n",
              "    </tr>\n",
              "  </thead>\n",
              "  <tbody>\n",
              "    <tr>\n",
              "      <th>0</th>\n",
              "      <td>Acqua Di Parma</td>\n",
              "      <td>Fragrance</td>\n",
              "      <td>Blu Mediterraneo MINIATURE Set</td>\n",
              "      <td>5 x 0.16oz/5mL</td>\n",
              "      <td>4.0</td>\n",
              "      <td>4</td>\n",
              "      <td>3002</td>\n",
              "      <td>66.0</td>\n",
              "      <td>75.0</td>\n",
              "      <td>True</td>\n",
              "      <td>online only</td>\n",
              "      <td>no options</td>\n",
              "      <td>Suggested Usage:-Fragrance is intensified by t...</td>\n",
              "      <td>1</td>\n",
              "      <td>0</td>\n",
              "      <td>0</td>\n",
              "      <td>0</td>\n",
              "    </tr>\n",
              "    <tr>\n",
              "      <th>1</th>\n",
              "      <td>Acqua Di Parma</td>\n",
              "      <td>Cologne</td>\n",
              "      <td>Colonia</td>\n",
              "      <td>0.7 oz/ 20 mL</td>\n",
              "      <td>4.5</td>\n",
              "      <td>76</td>\n",
              "      <td>2700</td>\n",
              "      <td>66.0</td>\n",
              "      <td>66.0</td>\n",
              "      <td>True</td>\n",
              "      <td>online only</td>\n",
              "      <td>- 0.7 oz/ 20 mL  Spray  - 1.7 oz/ 50 mL Eau d...</td>\n",
              "      <td>no instructions</td>\n",
              "      <td>1</td>\n",
              "      <td>0</td>\n",
              "      <td>0</td>\n",
              "      <td>0</td>\n",
              "    </tr>\n",
              "    <tr>\n",
              "      <th>2</th>\n",
              "      <td>Acqua Di Parma</td>\n",
              "      <td>Perfume</td>\n",
              "      <td>Arancia di Capri</td>\n",
              "      <td>5 oz/ 148 mL</td>\n",
              "      <td>4.5</td>\n",
              "      <td>26</td>\n",
              "      <td>2600</td>\n",
              "      <td>180.0</td>\n",
              "      <td>180.0</td>\n",
              "      <td>True</td>\n",
              "      <td>online only</td>\n",
              "      <td>- 1oz/30mL Eau de Toilette  - 2.5 oz/ 74 mL E...</td>\n",
              "      <td>no instructions</td>\n",
              "      <td>1</td>\n",
              "      <td>0</td>\n",
              "      <td>0</td>\n",
              "      <td>0</td>\n",
              "    </tr>\n",
              "    <tr>\n",
              "      <th>3</th>\n",
              "      <td>Acqua Di Parma</td>\n",
              "      <td>Perfume</td>\n",
              "      <td>Mirto di Panarea</td>\n",
              "      <td>2.5 oz/ 74 mL</td>\n",
              "      <td>4.5</td>\n",
              "      <td>23</td>\n",
              "      <td>2900</td>\n",
              "      <td>120.0</td>\n",
              "      <td>120.0</td>\n",
              "      <td>True</td>\n",
              "      <td>online only</td>\n",
              "      <td>- 1 oz/ 30 mL Eau de Toilette Spray - 2.5 oz/...</td>\n",
              "      <td>no instructions</td>\n",
              "      <td>1</td>\n",
              "      <td>0</td>\n",
              "      <td>0</td>\n",
              "      <td>0</td>\n",
              "    </tr>\n",
              "    <tr>\n",
              "      <th>4</th>\n",
              "      <td>Acqua Di Parma</td>\n",
              "      <td>Fragrance</td>\n",
              "      <td>Colonia Miniature Set</td>\n",
              "      <td>5 x 0.16oz/5mL</td>\n",
              "      <td>3.5</td>\n",
              "      <td>2</td>\n",
              "      <td>943</td>\n",
              "      <td>72.0</td>\n",
              "      <td>80.0</td>\n",
              "      <td>True</td>\n",
              "      <td>online only</td>\n",
              "      <td>no options</td>\n",
              "      <td>Suggested Usage:-Fragrance is intensified by t...</td>\n",
              "      <td>1</td>\n",
              "      <td>0</td>\n",
              "      <td>0</td>\n",
              "      <td>0</td>\n",
              "    </tr>\n",
              "  </tbody>\n",
              "</table>\n",
              "</div>"
            ],
            "text/plain": [
              "            brand   category  ... limited_edition limited_time_offer\n",
              "0  Acqua Di Parma  Fragrance  ...               0                  0\n",
              "1  Acqua Di Parma    Cologne  ...               0                  0\n",
              "2  Acqua Di Parma    Perfume  ...               0                  0\n",
              "3  Acqua Di Parma    Perfume  ...               0                  0\n",
              "4  Acqua Di Parma  Fragrance  ...               0                  0\n",
              "\n",
              "[5 rows x 17 columns]"
            ]
          },
          "metadata": {
            "tags": []
          },
          "execution_count": 7
        }
      ]
    },
    {
      "cell_type": "code",
      "metadata": {
        "id": "eaPYgOUsQ7yz",
        "outputId": "9feee584-b735-48a4-d13d-ba41189ea895",
        "colab": {
          "base_uri": "https://localhost:8080/",
          "height": 35
        }
      },
      "source": [
        "#Dropping products that have no ratings\n",
        "sephora_df_new = sephora_df_drop[sephora_df_drop['rating']>0]\n",
        "sephora_df_new.rating.unique()"
      ],
      "execution_count": null,
      "outputs": [
        {
          "output_type": "execute_result",
          "data": {
            "text/plain": [
              "array([4. , 4.5, 3.5, 5. , 3. , 2.5, 2. , 1. , 1.5])"
            ]
          },
          "metadata": {
            "tags": []
          },
          "execution_count": 69
        }
      ]
    },
    {
      "cell_type": "code",
      "metadata": {
        "id": "4yxjVkc2Dvkd",
        "outputId": "4e98adc7-18dd-4f51-882f-0cc6fdbe497e",
        "colab": {
          "base_uri": "https://localhost:8080/",
          "height": 1000
        }
      },
      "source": [
        "#Explore each category type for products in dataset \n",
        "pd.set_option('display.max_rows', 500)\n",
        "sephora_df_new.category.value_counts()\n",
        "#This showcases which are the most populated type in categories"
      ],
      "execution_count": null,
      "outputs": [
        {
          "output_type": "execute_result",
          "data": {
            "text/plain": [
              "Perfume                            656\n",
              "Moisturizers                       442\n",
              "Face Serums                        378\n",
              "Value & Gift Sets                  316\n",
              "Face Wash & Cleansers              245\n",
              "Face Masks                         226\n",
              "Rollerballs & Travel Size          220\n",
              "Hair Styling Products              213\n",
              "Eye Palettes                       199\n",
              "Eye Creams & Treatments            189\n",
              "Lipstick                           188\n",
              "Shampoo                            176\n",
              "Face Brushes                       176\n",
              "Foundation                         163\n",
              "Highlighter                        161\n",
              "Cologne                            154\n",
              "Mascara                            153\n",
              "Face Primer                        143\n",
              "Mini Size                          141\n",
              "Conditioner                        139\n",
              "Candles & Home Scents              127\n",
              "Eyeliner                           123\n",
              "Setting Spray & Powder             115\n",
              "Body Lotions & Body Oils           108\n",
              "Makeup                             108\n",
              "Beauty Supplements                 105\n",
              "Perfume Gift Sets                  104\n",
              "Eyebrow                            103\n",
              "Concealer                          100\n",
              "Lotions & Oils                      91\n",
              "Eye Brushes                         91\n",
              "Toners                              87\n",
              "Face Oils                           83\n",
              "Lip Balm & Treatment                81\n",
              "Mists & Essences                    80\n",
              "Lip Gloss                           79\n",
              "Scalp & Hair Treatments             79\n",
              "Lip Balms & Treatments              78\n",
              "Eyeshadow                           77\n",
              "Hair Masks                          76\n",
              "Face Sunscreen                      74\n",
              "Hair                                69\n",
              "Blush                               66\n",
              "Nail                                56\n",
              "Facial Peels                        55\n",
              "Sheet Masks                         53\n",
              "Hair Accessories                    52\n",
              "False Eyelashes                     51\n",
              "Bronzer                             50\n",
              "Skincare                            48\n",
              "Bath & Shower                       47\n",
              "Body Wash & Shower Gel              46\n",
              "Exfoliators                         45\n",
              "Dry Shampoo                         43\n",
              "Facial Cleansing Brushes            43\n",
              "Hair Oil                            42\n",
              "Face Sets                           39\n",
              "For Body                            39\n",
              "Anti-Aging                          37\n",
              "Makeup Removers                     37\n",
              "Sponges & Applicators               36\n",
              "Blemish & Acne Treatments           34\n",
              "Curling Irons                       32\n",
              "Cheek Palettes                      30\n",
              "Night Creams                        30\n",
              "Body Mist & Hair Mist               29\n",
              "Hair Spray                          29\n",
              "Eye Primer                          29\n",
              "Leave-In Conditioner                29\n",
              "Lip Liner                           29\n",
              "Moisturizer & Treatments            28\n",
              "Hair Brushes & Combs                28\n",
              "Hair Straighteners & Flat Irons     27\n",
              "Eye Sets                            27\n",
              "Hair Primers                        27\n",
              "Brush Cleaners                      26\n",
              "Facial Rollers                      26\n",
              "Hand Cream & Foot Cream             26\n",
              "Makeup Palettes                     25\n",
              "Lip Sets                            25\n",
              "Shaving                             24\n",
              "Hair Dryers                         24\n",
              "Holistic Wellness                   23\n",
              "BB & CC Cream                       22\n",
              "Face Wipes                          22\n",
              "Candles                             22\n",
              "Eye Masks                           21\n",
              "Scrub & Exfoliants                  21\n",
              "For Face                            19\n",
              "Brush Sets                          19\n",
              "Teeth Whitening                     19\n",
              "Lip Stain                           18\n",
              "Contour                             18\n",
              "Body Sprays & Deodorant             18\n",
              "Face Wash                           17\n",
              "Body Sunscreen                      17\n",
              "Deodorant & Antiperspirant          16\n",
              "Tinted Moisturizer                  16\n",
              "Makeup Bags & Travel Cases          15\n",
              "Makeup & Travel Cases               15\n",
              "Eyelash Curlers                     13\n",
              "Aftershave                          13\n",
              "Self Tanners                        12\n",
              "Tweezers & Eyebrow Tools            12\n",
              "Liquid Lipstick                     12\n",
              "Cellulite & Stretch Marks           11\n",
              "BB & CC Creams                      11\n",
              "Color Care                          11\n",
              "Color Correct                       10\n",
              "Skincare Sets                       10\n",
              "Decollete & Neck Creams             10\n",
              "Fragrance                           10\n",
              "Eye Cream                            9\n",
              "Bath & Body                          9\n",
              "no category                          9\n",
              "Mirrors & Sharpeners                 9\n",
              "Diffusers                            7\n",
              "Body Products                        7\n",
              "Blotting Papers                      7\n",
              "Hair Products                        6\n",
              "Bath Soaks & Bubble Bath             6\n",
              "Cologne Gift Sets                    5\n",
              "Hair Removal                         4\n",
              "Lip Brushes                          4\n",
              "Shampoo & Conditioner                4\n",
              "Lip Plumper                          3\n",
              "Sunscreen                            3\n",
              "Lip Sunscreen                        2\n",
              "After Sun Care                       2\n",
              "Hair Removal & Shaving               2\n",
              "Deodorant for Men                    2\n",
              "Lip Treatments                       1\n",
              "Cleansing Brushes                    1\n",
              "Powder Brush                         1\n",
              "Lid Shadow Brush                     1\n",
              "High Tech Tools                      1\n",
              "Wellness                             1\n",
              "Body Moisturizers                    1\n",
              "Hair Thinning & Hair Loss            1\n",
              "Hair Styling & Treatments            1\n",
              "Spa Tools                            1\n",
              "Curls & Coils                        1\n",
              "Accessories                          1\n",
              "Name: category, dtype: int64"
            ]
          },
          "metadata": {
            "tags": []
          },
          "execution_count": 72
        }
      ]
    },
    {
      "cell_type": "markdown",
      "metadata": {
        "id": "W9qyaMbUCwf4"
      },
      "source": [
        "# Data Exploration and Visulizations"
      ]
    },
    {
      "cell_type": "code",
      "metadata": {
        "id": "H8-bWpZSENQb"
      },
      "source": [
        "from sqlalchemy import create_engine\n",
        "import pandas as pd\n",
        "import matplotlib.pyplot as plt\n",
        "import seaborn as sns\n",
        "sns.set_style(\"white\")\n",
        "#it is set to ignore warning\n",
        "import warnings\n",
        "warnings.filterwarnings(\"ignore\")"
      ],
      "execution_count": null,
      "outputs": []
    },
    {
      "cell_type": "code",
      "metadata": {
        "id": "qv73tdmHCzCL",
        "outputId": "c3ae3650-d03a-4262-f960-c66eb7bd868a",
        "colab": {
          "base_uri": "https://localhost:8080/",
          "height": 173
        }
      },
      "source": [
        "#First, let's find the median and max of price for a hypothesis \n",
        "sephora_df_new['price'].describe()\n",
        "\n"
      ],
      "execution_count": null,
      "outputs": [
        {
          "output_type": "execute_result",
          "data": {
            "text/plain": [
              "count    8770.000000\n",
              "mean       49.820007\n",
              "std        46.877433\n",
              "min         2.000000\n",
              "25%        24.000000\n",
              "50%        35.000000\n",
              "75%        58.000000\n",
              "max       549.000000\n",
              "Name: price, dtype: float64"
            ]
          },
          "metadata": {
            "tags": []
          },
          "execution_count": 11
        }
      ]
    },
    {
      "cell_type": "code",
      "metadata": {
        "id": "5ozjNY-YxbRe",
        "outputId": "7e6068f3-0f14-4390-9e11-4215006f6303",
        "colab": {
          "base_uri": "https://localhost:8080/",
          "height": 35
        }
      },
      "source": [
        "#Ask Scott about the quantile because I cannot remember why to use it\n",
        "#sephora_df_new['price'].quantile(0.95)"
      ],
      "execution_count": null,
      "outputs": [
        {
          "output_type": "execute_result",
          "data": {
            "text/plain": [
              "139.0"
            ]
          },
          "metadata": {
            "tags": []
          },
          "execution_count": 12
        }
      ]
    },
    {
      "cell_type": "code",
      "metadata": {
        "id": "7TZ2rQaQDwAv",
        "outputId": "7dc0ed3f-944d-444d-c400-ca05dcd64188",
        "colab": {
          "base_uri": "https://localhost:8080/",
          "height": 295
        }
      },
      "source": [
        "#Remove price outliers. There is an item that was close to $2000 in price\n",
        "\n",
        "sns.distplot(x=sephora_df_new['price'], bins=25)\n",
        "plt.title('Price Density of Products at Sephora')\n",
        "plt.xlabel('Price')\n",
        "#plt.ylabel('Y')\n",
        "plt.show() "
      ],
      "execution_count": null,
      "outputs": [
        {
          "output_type": "display_data",
          "data": {
            "image/png": "[encoded data removed]",
            "text/plain": [
              "<Figure size 432x288 with 1 Axes>"
            ]
          },
          "metadata": {
            "tags": []
          }
        }
      ]
    },
    {
      "cell_type": "markdown",
      "metadata": {
        "id": "4QNhYvH8Jmlh"
      },
      "source": [
        "Explain what you see: Most of the prices range from 0 - 250. There is a "
      ]
    },
    {
      "cell_type": "code",
      "metadata": {
        "id": "HO1C-OCWDmRr",
        "outputId": "8aefdc2a-9262-4327-e726-e345e4f2373e",
        "colab": {
          "base_uri": "https://localhost:8080/",
          "height": 173
        }
      },
      "source": [
        "#Change to love \n",
        "sephora_df_new['number_of_reviews'].describe()"
      ],
      "execution_count": null,
      "outputs": [
        {
          "output_type": "execute_result",
          "data": {
            "text/plain": [
              "count     8770.000000\n",
              "mean       294.877879\n",
              "std        908.554062\n",
              "min          1.000000\n",
              "25%         13.000000\n",
              "50%         53.000000\n",
              "75%        224.000000\n",
              "max      19000.000000\n",
              "Name: number_of_reviews, dtype: float64"
            ]
          },
          "metadata": {
            "tags": []
          },
          "execution_count": 14
        }
      ]
    },
    {
      "cell_type": "code",
      "metadata": {
        "id": "dNjbcX5aEr8E",
        "outputId": "41d2388e-3789-49ea-c978-981e1b7d108c",
        "colab": {
          "base_uri": "https://localhost:8080/",
          "height": 295
        }
      },
      "source": [
        "#change quantile to here \n",
        "sephora_remove_review_outliers = sephora_df_new[sephora_df_new ['number_of_reviews'] <= 19000]\n",
        "sns.distplot(x=sephora_remove_review_outliers['number_of_reviews'], bins=25)\n",
        "plt.title('Number of Reviews')\n",
        "plt.xlabel('Amount of Reviews')\n",
        "plt.ylabel('Count (Density)')\n",
        "plt.show()"
      ],
      "execution_count": null,
      "outputs": [
        {
          "output_type": "display_data",
          "data": {
            "image/png": "[encoded data removed]",
            "text/plain": [
              "<Figure size 432x288 with 1 Axes>"
            ]
          },
          "metadata": {
            "tags": []
          }
        }
      ]
    },
    {
      "cell_type": "markdown",
      "metadata": {
        "id": "LGJYQMKfE39O"
      },
      "source": [
        "#Hypothesis 1: I hypothesize that there is a correlation between products with higher *ratings* and the amount of *love* received from customers\n"
      ]
    },
    {
      "cell_type": "code",
      "metadata": {
        "id": "9dLqTxXyE8uT",
        "outputId": "3c83cd7b-311c-4d1e-a168-876d542f2fe9",
        "colab": {
          "base_uri": "https://localhost:8080/",
          "height": 388
        }
      },
      "source": [
        "#The average ratings is situated between 3.5 to 5.0\n",
        "sns.catplot (x = sephora_df_new[\"rating\"], y = sephora_df_new [\"love\"], data = sephora_df_new, jitter = True)\n",
        "plt.title('Correlation between Ratings and Loves')\n",
        "plt.show()"
      ],
      "execution_count": null,
      "outputs": [
        {
          "output_type": "display_data",
          "data": {
            "image/png": "[encoded data removed]",
            "text/plain": [
              "<Figure size 360x360 with 1 Axes>"
            ]
          },
          "metadata": {
            "tags": []
          }
        }
      ]
    },
    {
      "cell_type": "code",
      "metadata": {
        "id": "fRdRich9G6IN",
        "outputId": "66da54ae-ab52-434f-fc44-245ba6b8128c",
        "colab": {
          "base_uri": "https://localhost:8080/",
          "height": 35
        }
      },
      "source": [
        "from scipy import stats\n",
        "stats.pearsonr(sephora_df_new['rating'], sephora_df_new['love'])"
      ],
      "execution_count": null,
      "outputs": [
        {
          "output_type": "execute_result",
          "data": {
            "text/plain": [
              "(0.05454359350811281, 3.204746547757709e-07)"
            ]
          },
          "metadata": {
            "tags": []
          },
          "execution_count": 17
        }
      ]
    },
    {
      "cell_type": "markdown",
      "metadata": {
        "id": "8vh9Qf-iHMlF"
      },
      "source": [
        "There is a positive and significant coorelation between *rating* and *love*"
      ]
    },
    {
      "cell_type": "markdown",
      "metadata": {
        "id": "WFNHD7E0FtAt"
      },
      "source": [
        "# Hypothesis 2: I hypothesize that items priced lower than 50 USD are rated higher than items that are priced higher than 50 USD"
      ]
    },
    {
      "cell_type": "code",
      "metadata": {
        "id": "p_5Pm8L1-YZb",
        "outputId": "de5f32c6-5959-4b76-c9f3-ee2335f65f87",
        "colab": {
          "base_uri": "https://localhost:8080/",
          "height": 173
        }
      },
      "source": [
        "#Remember, the average or mean for price is close to 50 USD\n",
        "sephora_df_new['price'].describe()"
      ],
      "execution_count": null,
      "outputs": [
        {
          "output_type": "execute_result",
          "data": {
            "text/plain": [
              "count    8770.000000\n",
              "mean       49.820007\n",
              "std        46.877433\n",
              "min         2.000000\n",
              "25%        24.000000\n",
              "50%        35.000000\n",
              "75%        58.000000\n",
              "max       549.000000\n",
              "Name: price, dtype: float64"
            ]
          },
          "metadata": {
            "tags": []
          },
          "execution_count": 19
        }
      ]
    },
    {
      "cell_type": "code",
      "metadata": {
        "id": "k6ep12BkPRjI",
        "outputId": "07dd7d56-5100-4273-a7a4-000ad9112a22",
        "colab": {
          "base_uri": "https://localhost:8080/",
          "height": 173
        }
      },
      "source": [
        "#First,seperate items that are priced lower than 50\n",
        "#We end up with 6084 items that are less than 50 USD\n",
        "lower_priced_products = sephora_df_new[['price', 'rating']].iloc[(sephora_df_new['price']<50.0).values]\n",
        "lower_priced_products.info()"
      ],
      "execution_count": null,
      "outputs": [
        {
          "output_type": "stream",
          "text": [
            "<class 'pandas.core.frame.DataFrame'>\n",
            "Int64Index: 6084 entries, 40 to 9163\n",
            "Data columns (total 2 columns):\n",
            " #   Column  Non-Null Count  Dtype  \n",
            "---  ------  --------------  -----  \n",
            " 0   price   6084 non-null   float64\n",
            " 1   rating  6084 non-null   float64\n",
            "dtypes: float64(2)\n",
            "memory usage: 142.6 KB\n"
          ],
          "name": "stdout"
        }
      ]
    },
    {
      "cell_type": "code",
      "metadata": {
        "id": "ocTMCm27PeQk",
        "outputId": "d14cd405-7c8e-44ea-a31c-1c19767ecb6d",
        "colab": {
          "base_uri": "https://localhost:8080/",
          "height": 173
        }
      },
      "source": [
        "#Second, seperate items that are priced higher than $50\n",
        "#There are 2582 products that \n",
        "higher_priced_products = sephora_df_new[['price', 'rating']].iloc[(sephora_df_new['price']>50.0).values]\n",
        "higher_priced_products.info()"
      ],
      "execution_count": null,
      "outputs": [
        {
          "output_type": "stream",
          "text": [
            "<class 'pandas.core.frame.DataFrame'>\n",
            "Int64Index: 2582 entries, 0 to 9149\n",
            "Data columns (total 2 columns):\n",
            " #   Column  Non-Null Count  Dtype  \n",
            "---  ------  --------------  -----  \n",
            " 0   price   2582 non-null   float64\n",
            " 1   rating  2582 non-null   float64\n",
            "dtypes: float64(2)\n",
            "memory usage: 60.5 KB\n"
          ],
          "name": "stdout"
        }
      ]
    },
    {
      "cell_type": "code",
      "metadata": {
        "id": "E7qNLgyWN4so",
        "outputId": "0f0c9351-cf47-4070-c6db-0debc4749db0",
        "colab": {
          "base_uri": "https://localhost:8080/",
          "height": 399
        }
      },
      "source": [
        "#Using a Categorical plot, we can see that lower priced products have an average rating between 3.0 to 5.0\n",
        "\n",
        "sns.catplot(x = lower_priced_products [\"rating\"], y = lower_priced_products [\"price\"], kind = \"swarm\", data = sephora_df_new)\n",
        "plt.title ('Lower Priced Products and their Ratings vs. Price')\n",
        "plt.show()"
      ],
      "execution_count": null,
      "outputs": [
        {
          "output_type": "display_data",
          "data": {
            "image/png": "[encoded data removed]",
            "text/plain": [
              "<Figure size 360x360 with 1 Axes>"
            ]
          },
          "metadata": {
            "tags": []
          }
        }
      ]
    },
    {
      "cell_type": "code",
      "metadata": {
        "id": "DCT_HvBforNO",
        "outputId": "5c15d611-a590-4dfb-bc67-0012477c4eae",
        "colab": {
          "base_uri": "https://localhost:8080/",
          "height": 171
        }
      },
      "source": [
        "df_lower = lower_priced_products.groupby('rating').nunique()\n",
        "df_lower[df.index >= 4.0]\n",
        "#Products rated higher than 4.0 total 232"
      ],
      "execution_count": null,
      "outputs": [
        {
          "output_type": "execute_result",
          "data": {
            "text/html": [
              "<div>\n",
              "<style scoped>\n",
              "    .dataframe tbody tr th:only-of-type {\n",
              "        vertical-align: middle;\n",
              "    }\n",
              "\n",
              "    .dataframe tbody tr th {\n",
              "        vertical-align: top;\n",
              "    }\n",
              "\n",
              "    .dataframe thead th {\n",
              "        text-align: right;\n",
              "    }\n",
              "</style>\n",
              "<table border=\"1\" class=\"dataframe\">\n",
              "  <thead>\n",
              "    <tr style=\"text-align: right;\">\n",
              "      <th></th>\n",
              "      <th>price</th>\n",
              "    </tr>\n",
              "    <tr>\n",
              "      <th>rating</th>\n",
              "      <th></th>\n",
              "    </tr>\n",
              "  </thead>\n",
              "  <tbody>\n",
              "    <tr>\n",
              "      <th>4.0</th>\n",
              "      <td>85</td>\n",
              "    </tr>\n",
              "    <tr>\n",
              "      <th>4.5</th>\n",
              "      <td>92</td>\n",
              "    </tr>\n",
              "    <tr>\n",
              "      <th>5.0</th>\n",
              "      <td>55</td>\n",
              "    </tr>\n",
              "  </tbody>\n",
              "</table>\n",
              "</div>"
            ],
            "text/plain": [
              "        price\n",
              "rating       \n",
              "4.0        85\n",
              "4.5        92\n",
              "5.0        55"
            ]
          },
          "metadata": {
            "tags": []
          },
          "execution_count": 62
        }
      ]
    },
    {
      "cell_type": "code",
      "metadata": {
        "id": "OMksH_sVQvLM",
        "outputId": "913c80c2-59de-437f-80b8-23e9f47e1cca",
        "colab": {
          "base_uri": "https://localhost:8080/",
          "height": 399
        }
      },
      "source": [
        "sns.catplot(x = higher_priced_products [\"rating\"], y = higher_priced_products [\"price\"], kind = \"swarm\", data = sephora_df_new)\n",
        "plt.title ('Higher Priced Products and their Ratings vs. Price')\n",
        "plt.show()\n",
        "#change to bar chart "
      ],
      "execution_count": null,
      "outputs": [
        {
          "output_type": "display_data",
          "data": {
            "image/png": "[encoded data removed]",
            "text/plain": [
              "<Figure size 360x360 with 1 Axes>"
            ]
          },
          "metadata": {
            "tags": []
          }
        }
      ]
    },
    {
      "cell_type": "code",
      "metadata": {
        "id": "Ah6TQTPY63Ys",
        "outputId": "c35b7ccb-cd96-4125-e5e6-b8c359042420",
        "colab": {
          "base_uri": "https://localhost:8080/",
          "height": 171
        }
      },
      "source": [
        "df_higher = higher_priced_products.groupby('rating').nunique()\n",
        "df_higher[df.index >= 4.0]\n",
        "#Products rated higher than 4.0 total 351"
      ],
      "execution_count": null,
      "outputs": [
        {
          "output_type": "execute_result",
          "data": {
            "text/html": [
              "<div>\n",
              "<style scoped>\n",
              "    .dataframe tbody tr th:only-of-type {\n",
              "        vertical-align: middle;\n",
              "    }\n",
              "\n",
              "    .dataframe tbody tr th {\n",
              "        vertical-align: top;\n",
              "    }\n",
              "\n",
              "    .dataframe thead th {\n",
              "        text-align: right;\n",
              "    }\n",
              "</style>\n",
              "<table border=\"1\" class=\"dataframe\">\n",
              "  <thead>\n",
              "    <tr style=\"text-align: right;\">\n",
              "      <th></th>\n",
              "      <th>price</th>\n",
              "    </tr>\n",
              "    <tr>\n",
              "      <th>rating</th>\n",
              "      <th></th>\n",
              "    </tr>\n",
              "  </thead>\n",
              "  <tbody>\n",
              "    <tr>\n",
              "      <th>4.0</th>\n",
              "      <td>120</td>\n",
              "    </tr>\n",
              "    <tr>\n",
              "      <th>4.5</th>\n",
              "      <td>129</td>\n",
              "    </tr>\n",
              "    <tr>\n",
              "      <th>5.0</th>\n",
              "      <td>102</td>\n",
              "    </tr>\n",
              "  </tbody>\n",
              "</table>\n",
              "</div>"
            ],
            "text/plain": [
              "        price\n",
              "rating       \n",
              "4.0       120\n",
              "4.5       129\n",
              "5.0       102"
            ]
          },
          "metadata": {
            "tags": []
          },
          "execution_count": 60
        }
      ]
    },
    {
      "cell_type": "code",
      "metadata": {
        "id": "CSCClm7fNpUs",
        "outputId": "c320ad11-c984-424b-cb9d-505123a8ba07",
        "colab": {
          "base_uri": "https://localhost:8080/",
          "height": 173
        }
      },
      "source": [
        "#do a describe for each dataframe \n",
        "lower_priced_products.rating.describe()"
      ],
      "execution_count": null,
      "outputs": [
        {
          "output_type": "execute_result",
          "data": {
            "text/plain": [
              "count    6084.000000\n",
              "mean        4.133876\n",
              "std         0.556404\n",
              "min         1.000000\n",
              "25%         4.000000\n",
              "50%         4.000000\n",
              "75%         4.500000\n",
              "max         5.000000\n",
              "Name: rating, dtype: float64"
            ]
          },
          "metadata": {
            "tags": []
          },
          "execution_count": 77
        }
      ]
    },
    {
      "cell_type": "code",
      "metadata": {
        "id": "XUHWOQ9cN0Tt",
        "outputId": "b08db886-5bf1-4479-8c47-f63dc82b7fd9",
        "colab": {
          "base_uri": "https://localhost:8080/",
          "height": 173
        }
      },
      "source": [
        "higher_priced_products.rating.describe()"
      ],
      "execution_count": null,
      "outputs": [
        {
          "output_type": "execute_result",
          "data": {
            "text/plain": [
              "count    2582.000000\n",
              "mean        4.255035\n",
              "std         0.538092\n",
              "min         1.000000\n",
              "25%         4.000000\n",
              "50%         4.500000\n",
              "75%         4.500000\n",
              "max         5.000000\n",
              "Name: rating, dtype: float64"
            ]
          },
          "metadata": {
            "tags": []
          },
          "execution_count": 78
        }
      ]
    },
    {
      "cell_type": "code",
      "metadata": {
        "id": "AFuzJXayE-Fr",
        "outputId": "6eadd2f7-f2a1-4434-c773-9d21381fa53d",
        "colab": {
          "base_uri": "https://localhost:8080/",
          "height": 35
        }
      },
      "source": [
        "stats.ttest_ind(lower_priced_products['rating'], higher_priced_products['rating'])"
      ],
      "execution_count": null,
      "outputs": [
        {
          "output_type": "execute_result",
          "data": {
            "text/plain": [
              "Ttest_indResult(statistic=-9.361772474849795, pvalue=9.82109928933006e-21)"
            ]
          },
          "metadata": {
            "tags": []
          },
          "execution_count": 63
        }
      ]
    },
    {
      "cell_type": "markdown",
      "metadata": {
        "id": "waLRpvAeFF_D"
      },
      "source": [
        "The p-value is less than 0.5 which means there is statistical signifigance between the lower priced products and higher priced products. But it's that higher priced products have higher ratings. "
      ]
    },
    {
      "cell_type": "markdown",
      "metadata": {
        "id": "z-Ra_TQEGOVN"
      },
      "source": [
        "# Hypothesis 3: I hypothesize that there are more loves for face makeup products versus fragrance products. Face products excludes lip & eye products. \n"
      ]
    },
    {
      "cell_type": "code",
      "metadata": {
        "id": "8KoWwSSDYVEh",
        "outputId": "7131decd-a798-401a-fb94-51940b3e1544",
        "colab": {
          "base_uri": "https://localhost:8080/",
          "height": 780
        }
      },
      "source": [
        "#First, let's remember each category for products offered \n",
        "sephora_df_new.category.unique()"
      ],
      "execution_count": null,
      "outputs": [
        {
          "output_type": "execute_result",
          "data": {
            "text/plain": [
              "array(['Fragrance', 'Cologne', 'Perfume', 'Body Mist & Hair Mist',\n",
              "       'Body Lotions & Body Oils', 'Body Sprays & Deodorant',\n",
              "       'Perfume Gift Sets', 'Rollerballs & Travel Size',\n",
              "       'Lip Balm & Treatment', 'Lotions & Oils', 'Eye Palettes',\n",
              "       'Highlighter', 'Cheek Palettes', 'Lipstick', 'Face Serums',\n",
              "       'Moisturizers', 'Value & Gift Sets', 'Eye Creams & Treatments',\n",
              "       'Face Sunscreen', 'Lip Balms & Treatments', 'Face Masks',\n",
              "       'Face Wash & Cleansers', 'Decollete & Neck Creams', 'Face Oils',\n",
              "       'Hand Cream & Foot Cream', 'Face Primer', 'Color Correct',\n",
              "       'Mists & Essences', 'Tinted Moisturizer', 'Concealer',\n",
              "       'Beauty Supplements', 'Facial Peels', 'Mini Size', 'Exfoliators',\n",
              "       'Conditioner', 'Shampoo', 'Hair Styling Products',\n",
              "       'Scalp & Hair Treatments', 'Hair Masks', 'Hair Spray', 'Hair Oil',\n",
              "       'Hair Primers', 'Dry Shampoo', 'Hair', 'Hair Thinning & Hair Loss',\n",
              "       'Hair Straighteners & Flat Irons', 'Hair Dryers', 'Color Care',\n",
              "       'Curling Irons', 'BB & CC Cream', 'Toners', 'Sheet Masks',\n",
              "       'Skincare', 'Body Sunscreen', 'Eyebrow', 'Mascara', 'Foundation',\n",
              "       'Eye Brushes', 'Setting Spray & Powder', 'Contour',\n",
              "       'Tweezers & Eyebrow Tools', 'Eyeshadow', 'Lip Gloss',\n",
              "       'False Eyelashes', 'Bronzer', 'Eyeliner', 'Eye Primer', 'Eye Sets',\n",
              "       'Face Brushes', 'Sponges & Applicators', 'Mirrors & Sharpeners',\n",
              "       'Face Wash', 'Body Products', 'Skincare Sets', 'Shaving',\n",
              "       'Moisturizer & Treatments', 'Aftershave', 'Eye Cream', 'Sunscreen',\n",
              "       'Blush', 'Hair Accessories', 'Liquid Lipstick', 'Makeup',\n",
              "       'Bath & Shower', 'Brush Sets', 'Brush Cleaners', 'Lip Brushes',\n",
              "       'Candles & Home Scents', 'Face Sets', 'Lip Liner', 'Anti-Aging',\n",
              "       'Facial Rollers', 'Eye Masks', 'Face Wipes',\n",
              "       'Makeup & Travel Cases', 'Night Creams', 'Lip Stain', 'Lip Sets',\n",
              "       'Hair Brushes & Combs', 'Deodorant & Antiperspirant',\n",
              "       'Holistic Wellness', 'Makeup Removers', 'Blotting Papers',\n",
              "       'Blemish & Acne Treatments', 'Leave-In Conditioner', 'Candles',\n",
              "       'Scrub & Exfoliants', 'Cellulite & Stretch Marks',\n",
              "       'Cologne Gift Sets', 'Nail', 'Hair Styling & Treatments',\n",
              "       'Lip Plumper', 'For Face', 'For Body', 'Self Tanners',\n",
              "       'Facial Cleansing Brushes', 'Cleansing Brushes', 'BB & CC Creams',\n",
              "       'Curls & Coils', 'Makeup Palettes', 'Eyelash Curlers',\n",
              "       'no category', 'Body Wash & Shower Gel',\n",
              "       'Makeup Bags & Travel Cases', 'Teeth Whitening',\n",
              "       'Bath Soaks & Bubble Bath', 'High Tech Tools',\n",
              "       'Shampoo & Conditioner', 'Bath & Body', 'Hair Products',\n",
              "       'Diffusers', 'Deodorant for Men', 'After Sun Care',\n",
              "       'Lip Sunscreen', 'Wellness', 'Hair Removal', 'Spa Tools',\n",
              "       'Accessories', 'Body Moisturizers', 'Hair Removal & Shaving',\n",
              "       'Lip Treatments', 'Powder Brush', 'Lid Shadow Brush'], dtype=object)"
            ]
          },
          "metadata": {
            "tags": []
          },
          "execution_count": 53
        }
      ]
    },
    {
      "cell_type": "code",
      "metadata": {
        "id": "KNJhyeRFuer2",
        "outputId": "a778c09d-7d00-4dce-a69e-1f36d38c3b66",
        "colab": {
          "base_uri": "https://localhost:8080/",
          "height": 433
        }
      },
      "source": [
        "#Create a new dataframe for fragrance products which includes:\n",
        "#Fragrance, Cologne, Perfume, Body Mist & Hair Mist, Body Lotions & Body Oils, \n",
        "#Body Sprays & Deodrants, Perfume Gift Sets, Rollerballs & Travel Size, After Shave, Deodorant & Antiperspirant\n",
        "\n",
        "Fragrance_List = ['Fragrance','Cologne', 'Perfume', 'Body Mist & Hair Mist', 'Body Lotions & Body Oils','Body Sprays & Deodrants', 'Perfume Gift Sets', 'Rollerballs & Travel Size', 'After Shave','Deodorant & Antiperspirant']\n",
        "sephora_fragrance = sephora_df_new[sephora_df_new['category'].isin(Fragrance_List)]\n",
        "sephora_fragrance.info()"
      ],
      "execution_count": null,
      "outputs": [
        {
          "output_type": "stream",
          "text": [
            "<class 'pandas.core.frame.DataFrame'>\n",
            "Int64Index: 1297 entries, 0 to 9159\n",
            "Data columns (total 17 columns):\n",
            " #   Column                  Non-Null Count  Dtype  \n",
            "---  ------                  --------------  -----  \n",
            " 0   brand                   1297 non-null   object \n",
            " 1   category                1297 non-null   object \n",
            " 2   name                    1297 non-null   object \n",
            " 3   size                    1297 non-null   object \n",
            " 4   rating                  1297 non-null   float64\n",
            " 5   number_of_reviews       1297 non-null   int64  \n",
            " 6   love                    1297 non-null   int64  \n",
            " 7   price                   1297 non-null   float64\n",
            " 8   value_price             1297 non-null   float64\n",
            " 9   MarketingFlags          1297 non-null   bool   \n",
            " 10  MarketingFlags_content  1297 non-null   object \n",
            " 11  options                 1297 non-null   object \n",
            " 12  how_to_use              1297 non-null   object \n",
            " 13  online_only             1297 non-null   int64  \n",
            " 14  exclusive               1297 non-null   int64  \n",
            " 15  limited_edition         1297 non-null   int64  \n",
            " 16  limited_time_offer      1297 non-null   int64  \n",
            "dtypes: bool(1), float64(3), int64(6), object(7)\n",
            "memory usage: 173.5+ KB\n"
          ],
          "name": "stdout"
        }
      ]
    },
    {
      "cell_type": "code",
      "metadata": {
        "id": "S48mi_6WyRP5",
        "outputId": "a31f938d-eef6-446e-89c7-2664a9be10b0",
        "colab": {
          "base_uri": "https://localhost:8080/",
          "height": 433
        }
      },
      "source": [
        "#Create another dataframe for face makeup products which includes:\n",
        "#Eye Palettes, Highlighter, Cheek Palettes, Face Primer, Color Correct, Tinted Moisturizer, \n",
        "#Concealer, BB & CC Cream, Foundation, \n",
        "#Setting Spray & Powder, Contour, Bronzer, Blush, Makeup, Makeup Palettes\n",
        "Face_List = ['Eye Palettes', 'Highlighter', 'Cheek Palettes', 'Face Primer', 'Color Correct', 'Tinted Moisturizer', 'Concealer', 'BB & CC Cream', 'Foundation', 'Setting Spray & Powder', 'Contour', 'Bronzer', 'Blush', 'Makeup', 'Makeup Palettes']\n",
        "sephora_face = sephora_df_new[sephora_df_new['category'].isin(Face_List)]\n",
        "sephora_face.info()"
      ],
      "execution_count": null,
      "outputs": [
        {
          "output_type": "stream",
          "text": [
            "<class 'pandas.core.frame.DataFrame'>\n",
            "Int64Index: 1226 entries, 57 to 9156\n",
            "Data columns (total 17 columns):\n",
            " #   Column                  Non-Null Count  Dtype  \n",
            "---  ------                  --------------  -----  \n",
            " 0   brand                   1226 non-null   object \n",
            " 1   category                1226 non-null   object \n",
            " 2   name                    1226 non-null   object \n",
            " 3   size                    1226 non-null   object \n",
            " 4   rating                  1226 non-null   float64\n",
            " 5   number_of_reviews       1226 non-null   int64  \n",
            " 6   love                    1226 non-null   int64  \n",
            " 7   price                   1226 non-null   float64\n",
            " 8   value_price             1226 non-null   float64\n",
            " 9   MarketingFlags          1226 non-null   bool   \n",
            " 10  MarketingFlags_content  1226 non-null   object \n",
            " 11  options                 1226 non-null   object \n",
            " 12  how_to_use              1226 non-null   object \n",
            " 13  online_only             1226 non-null   int64  \n",
            " 14  exclusive               1226 non-null   int64  \n",
            " 15  limited_edition         1226 non-null   int64  \n",
            " 16  limited_time_offer      1226 non-null   int64  \n",
            "dtypes: bool(1), float64(3), int64(6), object(7)\n",
            "memory usage: 164.0+ KB\n"
          ],
          "name": "stdout"
        }
      ]
    },
    {
      "cell_type": "code",
      "metadata": {
        "id": "IYFm1eYU85dY",
        "outputId": "a99f23db-ad23-4558-c792-7825fcf66f56",
        "colab": {
          "base_uri": "https://localhost:8080/",
          "height": 401
        }
      },
      "source": [
        "sns.catplot(x = sephora_fragrance[\"love\"], y = sephora_face[\"love\"], jitter = False, data = sephora_df_new)\n",
        "#plt.title ('Lower Priced Products and their Ratings vs. Price')\n",
        "#plt.show()"
      ],
      "execution_count": null,
      "outputs": [
        {
          "output_type": "execute_result",
          "data": {
            "text/plain": [
              "<seaborn.axisgrid.FacetGrid at 0x7fec33e809e8>"
            ]
          },
          "metadata": {
            "tags": []
          },
          "execution_count": 67
        },
        {
          "output_type": "display_data",
          "data": {
            "image/png": "[encoded data removed]",
            "text/plain": [
              "<Figure size 360x360 with 1 Axes>"
            ]
          },
          "metadata": {
            "tags": []
          }
        }
      ]
    },
    {
      "cell_type": "markdown",
      "metadata": {
        "id": "4gXyuQI3GU31"
      },
      "source": [
        "# Hypothesis 4: I hypothesize that there is a statistical difference in price between items being offered online only versus items that can be picked up in stores\n"
      ]
    }
  ]
}